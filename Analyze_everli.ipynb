{
 "cells": [
  {
   "cell_type": "code",
   "execution_count": 3,
   "id": "865d3043",
   "metadata": {},
   "outputs": [
    {
     "name": "stdout",
     "output_type": "stream",
     "text": [
      "CSV saved to everli_store_summary.csv\n"
     ]
    }
   ],
   "source": [
    "import re\n",
    "import csv\n",
    "with open(\"Everli_logs/scraper_logs_2025-06-10.csv\", \"r\", encoding=\"utf-8\") as f:\n",
    "    log_content = f.readlines()\n",
    "csv_data = [\n",
    "    [\"store_name\", \"store_id\", \"num_categories\", \"num_products\", \"duration_in_minutes\"]\n",
    "]\n",
    "\n",
    "store_name = None\n",
    "store_id = None\n",
    "num_categories = None\n",
    "num_products = None\n",
    "duration_in_minutes = None\n",
    "\n",
    "for line in log_content:\n",
    "    if \"Start processing Store\" in line:\n",
    "        if store_name is not None:\n",
    "            csv_data.append([store_name, store_id, num_categories, num_products, duration_in_minutes])\n",
    "        \n",
    "        match = re.search(r'Start processing Store (\\d+) - (.+)', line)\n",
    "        if match:\n",
    "            store_id = match.group(1)\n",
    "            store_name = match.group(2).strip()\n",
    "        num_categories = None\n",
    "        num_products = None\n",
    "        duration_in_minutes= None\n",
    "    \n",
    "    elif \"Categories found\" in line:\n",
    "        match = re.search(r'Categories found: (\\d+)', line)\n",
    "        if match:\n",
    "            num_categories = int(match.group(1))\n",
    "    \n",
    "    elif \"Appended\" in line and \"products\" in line:\n",
    "        match = re.search(r'Appended (\\d+) products', line)\n",
    "        if match:\n",
    "            num_products = int(match.group(1))\n",
    "    \n",
    "    elif \"duration_in_minutesfor store\" in line:\n",
    "        match = re.search(r'duration_in_minutesfor store \\d+: ([\\d.]+) min', line)\n",
    "        if match:\n",
    "            duration_in_minutes= float(match.group(1))\n",
    "\n",
    "if store_name is not None:\n",
    "    csv_data.append([store_name, store_id, num_categories, num_products, duration_in_minutes])\n",
    "\n",
    "output_csv_path = \"everli_store_summary.csv\"\n",
    "with open(output_csv_path, mode=\"w\", newline=\"\", encoding=\"utf-8\") as file:\n",
    "    writer = csv.writer(file)\n",
    "    writer.writerows(csv_data)\n",
    "\n",
    "print(f\"CSV saved to {output_csv_path}\")"
   ]
  },
  {
   "cell_type": "code",
   "execution_count": null,
   "id": "6180be83",
   "metadata": {},
   "outputs": [],
   "source": []
  }
 ],
 "metadata": {
  "kernelspec": {
   "display_name": "Python 3",
   "language": "python",
   "name": "python3"
  },
  "language_info": {
   "codemirror_mode": {
    "name": "ipython",
    "version": 3
   },
   "file_extension": ".py",
   "mimetype": "text/x-python",
   "name": "python",
   "nbconvert_exporter": "python",
   "pygments_lexer": "ipython3",
   "version": "3.13.3"
  }
 },
 "nbformat": 4,
 "nbformat_minor": 5
}
